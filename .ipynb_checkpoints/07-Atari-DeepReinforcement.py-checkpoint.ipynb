{
 "cells": [
  {
   "cell_type": "code",
   "execution_count": 56,
   "metadata": {},
   "outputs": [],
   "source": [
    "import gym\n",
    "import matplotlib.pyplot as plt\n",
    "import cv2\n",
    "import numpy as np\n",
    "from keras.layers import Dense,Conv2D,Flatten,Dropout\n",
    "import keras\n",
    "from collections import namedtuple\n",
    "import random"
   ]
  },
  {
   "cell_type": "code",
   "execution_count": null,
   "metadata": {},
   "outputs": [],
   "source": [
    "# env = gym.make('SpaceInvaders-ramNoFrameskip-v0')\n",
    "env = gym.make('TimePilotNoFrameskip-v0')\n",
    "# env = gym.make(\"MsPacman-ramNoFrameskip-v0\")\n",
    "# env = gym.make('Zaxxon-v4')\n",
    "# env = gym.make(\"VideoPinball-ramNoFrameskip-v0\")"
   ]
  },
  {
   "cell_type": "code",
   "execution_count": null,
   "metadata": {},
   "outputs": [],
   "source": [
    "# print(env.action_space.n)\n",
    "# print(env.observation_space)\n",
    "# print(env.observation_space.high)\n",
    "# print(env.observation_space.low)\n",
    "print(env.observation_space.shape)"
   ]
  },
  {
   "cell_type": "code",
   "execution_count": null,
   "metadata": {},
   "outputs": [],
   "source": [
    "obs = env.reset()/255.0\n",
    "obs = obs[32:170,:]\n",
    "obs.shape"
   ]
  },
  {
   "cell_type": "code",
   "execution_count": null,
   "metadata": {},
   "outputs": [],
   "source": [
    "\n",
    "# obs.shape\n",
    "obs=cv2.resize(obs,(50,50))\n",
    "# Cropping the image\n",
    "# obs = \n",
    "# obs = np.reshape(obs,(1,-1))\n",
    "# obs.shape\n",
    "plt.imshow(obs,cmap='gray')\n",
    "plt.show()"
   ]
  },
  {
   "cell_type": "code",
   "execution_count": null,
   "metadata": {},
   "outputs": [],
   "source": [
    "def preprocess_image(obs):\n",
    "    obs = obs / 255.0\n",
    "    obs = cv2.resize(obs,(50,50))\n",
    "    \n",
    "    return obs"
   ]
  },
  {
   "cell_type": "code",
   "execution_count": null,
   "metadata": {},
   "outputs": [],
   "source": [
    "# Neural Network\n",
    "model = keras.models.Sequential()\n",
    "model.add(Conv2D(filters=32, kernel_size=4, strides=2,\n",
    "                 activation='relu', input_shape=(50,50,3)))\n",
    "model.add(Conv2D(filters=64, kernel_size=3, strides=1,\n",
    "                 activation='relu'))\n",
    "model.add(Flatten())\n",
    "model.add(Dense(units=128, activation='relu'))\n",
    "model.add(Dense(units=env.action_space.n))\n",
    "model.compile(loss='mse', optimizer='adam')\n",
    "model.summary()"
   ]
  },
  {
   "cell_type": "code",
   "execution_count": null,
   "metadata": {},
   "outputs": [],
   "source": [
    "# NOTE: Experience Replay\n",
    "class Experience_Replay(object):\n",
    "    def __init(self,max_size=10000000):\n",
    "        self.memory  = []\n",
    "        self.max_size = max_size\n",
    "        self.mem_idx = 0\n",
    "    def store(self,experience):\n",
    "        self.memory.insert(self.mem_idx % self.max_size,experience)\n",
    "        self.mem_idx +=1\n",
    "    \n",
    "    def sample(self,batch_size):\n",
    "        assert batch_size <= len(self.memory), \"Sample size is more than Memory size\"\n",
    "        return random.sample(self.memory,batch_size)\n",
    "    def get_size(self):\n",
    "        return len(self.memory)"
   ]
  },
  {
   "cell_type": "code",
   "execution_count": null,
   "metadata": {},
   "outputs": [],
   "source": [
    "MAX_NUM_EPISODES = 10\n",
    "MAX_STEPS_PER_EPISODES = 200\n",
    "MAX_NUM_STEPS = MAX_NUM_EPISODES * MAX_STEPS_PER_EPISODES\n",
    "EPSILON_MIN = 0.005\n",
    "Epsilon_decacy = 500 * EPSILON_MIN / MAX_NUM_STEPS\n",
    "Alpha = 0.05\n",
    "Gamma = 0.98"
   ]
  },
  {
   "cell_type": "code",
   "execution_count": null,
   "metadata": {
    "scrolled": true
   },
   "outputs": [],
   "source": [
    "for episodes in range(MAX_NUM_EPISODES):\n",
    "        done = False\n",
    "        obs = env.reset()\n",
    "        obs = preprocess_image(obs)\n",
    "        total_reward = 0.0\n",
    "        step = 0\n",
    "        while not done:\n",
    "            env.render()\n",
    "            obs = np.expand_dims(obs,axis=0)\n",
    "            action = np.argmax(model.predict(obs))\n",
    "            if step == 0:\n",
    "                prev_action = action\n",
    "            next_state,reward,done,_ = env.step(action)\n",
    "            if action != prev_action:\n",
    "                print(action)\n",
    "            prev_action = action   \n",
    "            total_reward += reward\n",
    "            step += 1\n",
    "            obs = preprocess_image(next_state)\n",
    "        print('\\n Episode {} ended in {} Steps.Total reward {}'.format(episodes,step,total_reward))\n",
    "env.close ()"
   ]
  },
  {
   "cell_type": "code",
   "execution_count": null,
   "metadata": {},
   "outputs": [],
   "source": [
    "\n",
    "        \n",
    "        \n",
    "        \n",
    "        "
   ]
  }
 ],
 "metadata": {
  "kernelspec": {
   "display_name": "Python 3",
   "language": "python",
   "name": "python3"
  },
  "language_info": {
   "codemirror_mode": {
    "name": "ipython",
    "version": 3
   },
   "file_extension": ".py",
   "mimetype": "text/x-python",
   "name": "python",
   "nbconvert_exporter": "python",
   "pygments_lexer": "ipython3",
   "version": "3.6.8"
  }
 },
 "nbformat": 4,
 "nbformat_minor": 2
}
